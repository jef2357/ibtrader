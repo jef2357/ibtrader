{
 "cells": [
  {
   "cell_type": "code",
   "execution_count": 1,
   "id": "ed4e5bdd-9e1f-4310-9d7b-42d347cc5059",
   "metadata": {},
   "outputs": [],
   "source": [
    "import psycopg\n",
    "from datetime import datetime\n",
    "import pandas as pd\n",
    "import matplotlib.pyplot as plt "
   ]
  },
  {
   "cell_type": "code",
   "execution_count": 2,
   "id": "76e37c02-b3cd-45cd-a70e-dc16569395e9",
   "metadata": {},
   "outputs": [],
   "source": [
    "db_config = {'user':'jeffrey', 'password':'strawberries', 'host':'127.0.0.1', 'port':'5432', 'dbname':'trader', 'autocommit':True}\n",
    "db_conn = psycopg.connect(**db_config)\n",
    "db_cur = db_conn.cursor()"
   ]
  },
  {
   "cell_type": "code",
   "execution_count": 8,
   "id": "bde642de-a6a5-42b8-96d8-f1a189c46972",
   "metadata": {},
   "outputs": [],
   "source": [
    "result = db_cur.execute(\"SELECT table_name FROM information_schema.tables WHERE table_schema = 'public';\")"
   ]
  },
  {
   "cell_type": "code",
   "execution_count": 9,
   "id": "12d1ab37-a689-4f6e-a9e7-39dfb28e9b4e",
   "metadata": {},
   "outputs": [],
   "source": [
    "table_names = result.fetchall()"
   ]
  },
  {
   "cell_type": "code",
   "execution_count": 10,
   "id": "718d5028-ac1f-492d-999f-339b24fb1fb4",
   "metadata": {},
   "outputs": [
    {
     "name": "stdout",
     "output_type": "stream",
     "text": [
      "[('tick_size',), ('tick_string',), ('tbt_all_last',), ('tick_generic',), ('tick_price',), ('reqid_list',), ('rtb',)]\n"
     ]
    }
   ],
   "source": [
    "print(table_names)"
   ]
  },
  {
   "cell_type": "code",
   "execution_count": 11,
   "id": "6e769a74-45d1-4526-bfcf-61e04bcef39f",
   "metadata": {},
   "outputs": [],
   "source": [
    "result = db_cur.execute(\"SELECT column_name FROM information_schema.columns WHERE table_name = 'reqid_list';\")"
   ]
  },
  {
   "cell_type": "code",
   "execution_count": 12,
   "id": "b69e0852-d95f-456c-86a3-0f831f5dc96e",
   "metadata": {},
   "outputs": [],
   "source": [
    "col_names = result.fetchall()"
   ]
  },
  {
   "cell_type": "code",
   "execution_count": 13,
   "id": "429b9dcb-8687-4780-a9d5-86631f8ad94f",
   "metadata": {},
   "outputs": [
    {
     "name": "stdout",
     "output_type": "stream",
     "text": [
      "[('source',), ('reqid',), ('send_time',), ('req_func',), ('symbol',), ('security_type',), ('exchange',), ('currency',), ('id',)]\n"
     ]
    }
   ],
   "source": [
    "print(col_names)"
   ]
  },
  {
   "cell_type": "code",
   "execution_count": 14,
   "id": "d3b5e5b7-f781-469c-923e-5a28d4e6a409",
   "metadata": {},
   "outputs": [],
   "source": [
    "result = db_cur.execute('SELECT * FROM reqid_list WHERE send_time::date = current_date;')\n"
   ]
  },
  {
   "cell_type": "code",
   "execution_count": 15,
   "id": "e30491d7-97ff-43db-a45a-6d1caef9c4ab",
   "metadata": {},
   "outputs": [],
   "source": [
    "test = result.fetchall()"
   ]
  },
  {
   "cell_type": "code",
   "execution_count": 18,
   "id": "e323ecb7-1436-4cdb-8215-0349f5aa8c4f",
   "metadata": {},
   "outputs": [
    {
     "name": "stdout",
     "output_type": "stream",
     "text": [
      "('ib_api', 202, datetime.datetime(2024, 7, 30, 10, 29, 28, 753515, tzinfo=zoneinfo.ZoneInfo(key='US/Central')), 'reqMktData', 'AMD', 'STK', 'SMART', 'USD', 973)\n"
     ]
    }
   ],
   "source": [
    "print(test[1])"
   ]
  },
  {
   "cell_type": "code",
   "execution_count": null,
   "id": "ed2cf0d4-3880-494a-a002-f95bcb1a754a",
   "metadata": {},
   "outputs": [],
   "source": []
  }
 ],
 "metadata": {
  "kernelspec": {
   "display_name": "Python 3 (ipykernel)",
   "language": "python",
   "name": "python3"
  },
  "language_info": {
   "codemirror_mode": {
    "name": "ipython",
    "version": 3
   },
   "file_extension": ".py",
   "mimetype": "text/x-python",
   "name": "python",
   "nbconvert_exporter": "python",
   "pygments_lexer": "ipython3",
   "version": "3.11.4"
  }
 },
 "nbformat": 4,
 "nbformat_minor": 5
}
