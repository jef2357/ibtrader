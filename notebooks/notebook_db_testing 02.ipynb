{
 "cells": [
  {
   "cell_type": "code",
   "execution_count": 1,
   "metadata": {},
   "outputs": [],
   "source": [
    "# imports\n",
    "#%matplotlib widget\n",
    "\n",
    "import psycopg\n",
    "import matplotlib as mp\n",
    "import matplotlib.pyplot as plt\n",
    "import pandas as pd\n",
    "import datetime as dt\n",
    "\n",
    "import ipywidgets as widgets\n",
    "from IPython.display import display"
   ]
  },
  {
   "cell_type": "code",
   "execution_count": 2,
   "metadata": {},
   "outputs": [],
   "source": [
    "db_config = {'user':'jeffrey',\n",
    "                  'password':'strawberries',\n",
    "                  'host':'127.0.0.1',\n",
    "                  'port':'5432',\n",
    "                  'dbname':'trader',\n",
    "                  'autocommit':True} \n",
    "\n",
    "# connect to psql database\n",
    "#conn = psycopg.connect(host=\"localhost\", dbname=\"trader\", user=\"jeffrey\", password=\"strawberries\")\n",
    "conn = psycopg.connect(**db_config)\n",
    "cur = conn.cursor()\n",
    "\n",
    "today = dt.datetime.today()                 # datetime.datetime object\n",
    "yesterday = today - dt.timedelta(days=1)    # datetime.datetime object\n",
    "data_date = today                           # datetime.datetime object"
   ]
  },
  {
   "cell_type": "code",
   "execution_count": 3,
   "metadata": {},
   "outputs": [],
   "source": [
    "def symbol_qry():\n",
    "    query = \"SELECT DISTINCT symbol FROM reqid_list;\"\n",
    "    cur.execute(query)\n",
    "    unique_symbols = cur.fetchall()\n",
    "    return unique_symbols\n",
    "\n",
    "def dates_qry(symbol):\n",
    "    query = \"\"\"\n",
    "        SELECT DISTINCT DATE(send_time) FROM reqid_list WHERE symbol = %s;\n",
    "    \"\"\"\n",
    "    cur.execute(query, (symbol,))\n",
    "    unique_dates = cur.fetchall()\n",
    "    unique_dates.sort()\n",
    "    return [date[0] for date in unique_dates]"
   ]
  },
  {
   "cell_type": "code",
   "execution_count": 4,
   "metadata": {},
   "outputs": [
    {
     "data": {
      "application/vnd.jupyter.widget-view+json": {
       "model_id": "ad82165709f84967b753b843291fddb5",
       "version_major": 2,
       "version_minor": 0
      },
      "text/plain": [
       "Dropdown(description='Symbol:', options=('AAPL', 'MSFT', 'DELL', 'NFLX', 'AVGO', 'TSM', 'SPX', 'LLY', 'NVDA', …"
      ]
     },
     "metadata": {},
     "output_type": "display_data"
    },
    {
     "data": {
      "application/vnd.jupyter.widget-view+json": {
       "model_id": "f55069c0da5c41ed95885c692f19fe2f",
       "version_major": 2,
       "version_minor": 0
      },
      "text/plain": [
       "Dropdown(description='Date:', index=1, options=('', datetime.date(2024, 7, 1), datetime.date(2024, 7, 2), date…"
      ]
     },
     "metadata": {},
     "output_type": "display_data"
    }
   ],
   "source": [
    "# Extract symbols from unique_symbols\n",
    "unique_symbols = symbol_qry()\n",
    "symbols = [symbol[0] for symbol in unique_symbols]\n",
    "\n",
    "# Create a dropdown widget\n",
    "symbol_dropdown = widgets.Dropdown(\n",
    "    options=symbols,\n",
    "    value=symbols[0],\n",
    "    description='Symbol:',\n",
    "    disabled=False,\n",
    ")\n",
    "\n",
    "dates = dates_qry(symbol_dropdown.value)\n",
    "\n",
    "# Create a date dropdown widget\n",
    "date_dropdown = widgets.Dropdown(\n",
    "    options=[''] + dates,\n",
    "    value=dates[0],\n",
    "    description='Date:',\n",
    "    disabled=False,\n",
    ")\n",
    "\n",
    "def update_dates(*args):\n",
    "    new_dates = dates_qry(symbol_dropdown.value)\n",
    "    date_dropdown.options = [''] + new_dates\n",
    "    date_dropdown.value = new_dates[0] if new_dates else ''\n",
    "\n",
    "symbol_dropdown.observe(update_dates, 'value')\n",
    "\n",
    "display(symbol_dropdown)\n",
    "display(date_dropdown)\n",
    "\n"
   ]
  },
  {
   "cell_type": "code",
   "execution_count": 5,
   "metadata": {},
   "outputs": [],
   "source": [
    "def get_data_from_tick_price(symbol, date):\n",
    "    query = \"\"\"\n",
    "        SELECT\n",
    "            r.source,\n",
    "            r.reqid,\n",
    "            r.send_time,\n",
    "            r.req_func,\n",
    "            r.symbol,\n",
    "            r.security_type,\n",
    "            r.id,\n",
    "            t.source,\n",
    "            t.reqid,\n",
    "            t.recv_time,\n",
    "            t.field,\n",
    "            t.name,\n",
    "            t.price,\n",
    "            t.attributes,\n",
    "            t.id\n",
    "        FROM\n",
    "            reqid_list r\n",
    "        JOIN\n",
    "            tick_price t\n",
    "        ON\n",
    "            r.reqid = t.reqid\n",
    "        WHERE\n",
    "            r.symbol = %s AND r.send_time::date = %s AND t.recv_time::date = %s\n",
    "        ORDER BY t.recv_time ASC;\n",
    "    \"\"\"\n",
    "    cur.execute(query, (symbol, date, date))\n",
    "    data = cur.fetchall()\n",
    "    return data\n"
   ]
  },
  {
   "cell_type": "code",
   "execution_count": 6,
   "metadata": {},
   "outputs": [],
   "source": [
    "def get_data_tbt_all_last(symbol, date):\n",
    "    try:\n",
    "        query = \"\"\"\n",
    "            SELECT\n",
    "                r.source,\n",
    "                r.reqid,\n",
    "                r.send_time,\n",
    "                r.req_func,\n",
    "                r.symbol,\n",
    "                r.security_type,\n",
    "                r.id,\n",
    "                t.source,\n",
    "                t.reqid,\n",
    "                t.recv_time,\n",
    "                t.tick_type,\n",
    "                t.tick_name,\n",
    "                t.ib_time,\n",
    "                t.price,\n",
    "                t.size,\n",
    "                t.exchange,\n",
    "                t.id\n",
    "            FROM\n",
    "                reqid_list r\n",
    "            JOIN\n",
    "                tbt_all_last t\n",
    "            ON\n",
    "                r.reqid = t.reqid\n",
    "            WHERE\n",
    "                r.symbol = %s AND r.send_time::date = %s AND t.recv_time::date = %s\n",
    "            ORDER BY t.recv_time ASC;\n",
    "        \"\"\"\n",
    "        cur.execute(query, (symbol, date, date))\n",
    "        data = cur.fetchall()\n",
    "        return data\n",
    "    except Exception as e:\n",
    "        print(f\"An error occurred: {e}\")\n",
    "        return None\n",
    "    finally:\n",
    "        pass"
   ]
  },
  {
   "cell_type": "code",
   "execution_count": 8,
   "metadata": {},
   "outputs": [
    {
     "name": "stdout",
     "output_type": "stream",
     "text": [
      "[(103, 'SPX'), (202, 'AMD'), (302, 'NVDA'), (402, 'MSFT'), (502, 'NFLX'), (602, 'TSM'), (702, 'AMZN'), (802, 'DELL'), (902, 'INTC'), (1002, 'MU'), (1102, 'WDC'), (1202, 'AVGO'), (1302, 'AAPL'), (1402, 'SPY'), (1502, 'PANW'), (1602, 'LLY'), (1702, 'SMCI'), (1802, 'SMH'), (103, 'SPX'), (202, 'AMD'), (302, 'NVDA'), (402, 'MSFT'), (502, 'NFLX'), (602, 'TSM'), (702, 'AMZN'), (802, 'DELL'), (902, 'INTC'), (1002, 'MU'), (1102, 'WDC'), (1202, 'AVGO'), (1302, 'AAPL'), (1402, 'SPY'), (1502, 'PANW'), (1602, 'LLY'), (1702, 'SMCI'), (1802, 'SMH'), (99202, 'AMD')]\n"
     ]
    }
   ],
   "source": [
    "def get_reqid_and_symbol_today(today):\n",
    "    query = \"\"\"\n",
    "        SELECT reqid, symbol\n",
    "        FROM reqid_list\n",
    "        WHERE DATE(send_time) = %s;\n",
    "    \"\"\"\n",
    "    cur.execute(query, (today.date(),))\n",
    "    reqid_and_symbol = cur.fetchall()\n",
    "    return reqid_and_symbol\n",
    "\n",
    "reqid_and_symbol_today = get_reqid_and_symbol_today(today)\n",
    "print(reqid_and_symbol_today)"
   ]
  },
  {
   "cell_type": "code",
   "execution_count": null,
   "metadata": {},
   "outputs": [],
   "source": []
  },
  {
   "cell_type": "code",
   "execution_count": 7,
   "metadata": {},
   "outputs": [
    {
     "name": "stdout",
     "output_type": "stream",
     "text": [
      "[203, 303, 403, 503, 603, 703, 1203, 1403, 9203, 9303, 9403, 9503, 91403, 99203]\n"
     ]
    }
   ],
   "source": [
    "def get_unique_reqid_tbt_all_last():\n",
    "    query = \"\"\"\n",
    "        SELECT DISTINCT reqid\n",
    "        FROM tbt_all_last;\n",
    "    \"\"\"\n",
    "    cur.execute(query)\n",
    "    unique_reqid = cur.fetchall()\n",
    "    return [reqid[0] for reqid in unique_reqid]\n",
    "\n",
    "# Example usage\n",
    "unique_reqid_tbt_all_last = get_unique_reqid_tbt_all_last()\n",
    "print(unique_reqid_tbt_all_last)"
   ]
  },
  {
   "cell_type": "code",
   "execution_count": null,
   "metadata": {},
   "outputs": [],
   "source": []
  },
  {
   "cell_type": "code",
   "execution_count": null,
   "metadata": {},
   "outputs": [],
   "source": []
  },
  {
   "cell_type": "code",
   "execution_count": null,
   "metadata": {},
   "outputs": [],
   "source": [
    "def get_all_tbt_all_last(reqid, date):\n",
    "    query = \"\"\"\n",
    "        SELECT\n",
    "            t.reqid,\n",
    "            t.source,\n",
    "            t.reqid,\n",
    "            t.recv_time,\n",
    "            t.tick_type,\n",
    "            t.tick_name,\n",
    "            t.ib_time,\n",
    "            t.price,\n",
    "            t.size,\n",
    "            t.exchange,\n",
    "            t.id\n",
    "        FROM\n",
    "            tbt_all_last t\n",
    "        WHERE\n",
    "            t.reqid = %s AND t.recv_time::date = %s\n",
    "        ORDER BY\n",
    "            t.recv_time ASC;\n",
    "    \"\"\"\n",
    "    cur.execute(query, (reqid, date))\n",
    "    print(reqid, date)\n",
    "    prices = cur.fetchall()\n",
    "    return prices\n",
    "\n",
    "# Example usage\n",
    "#prices = get_all_tbt_all_last(symbol_dropdown.value, date_dropdown.value)\n",
    "prices = get_all_tbt_all_last(203, date_dropdown.value)\n",
    "print(prices)"
   ]
  },
  {
   "cell_type": "code",
   "execution_count": null,
   "metadata": {},
   "outputs": [],
   "source": []
  },
  {
   "cell_type": "code",
   "execution_count": null,
   "metadata": {},
   "outputs": [],
   "source": [
    "def get_reqid_and_symbol_by_date(date):\n",
    "    query = \"\"\"\n",
    "        SELECT reqid, symbol, send_time\n",
    "        FROM reqid_list\n",
    "        WHERE DATE(send_time) = %s;\n",
    "    \"\"\"\n",
    "    cur.execute(query, (date,))\n",
    "    reqid_and_symbol = cur.fetchall()\n",
    "    return reqid_and_symbol\n",
    "\n",
    "# Example usage\n",
    "reqid_and_symbol_by_date = get_reqid_and_symbol_by_date(date_dropdown.value)\n",
    "print(reqid_and_symbol_by_date)"
   ]
  },
  {
   "cell_type": "code",
   "execution_count": null,
   "metadata": {},
   "outputs": [],
   "source": [
    "reqid_and_symbol_by_date_simple = [(reqid, symbol, send_time.strftime('%Y-%m-%d')) for reqid, symbol, send_time in reqid_and_symbol_by_date]\n",
    "\n",
    "print(reqid_and_symbol_by_date_simple)"
   ]
  },
  {
   "cell_type": "code",
   "execution_count": null,
   "metadata": {},
   "outputs": [],
   "source": []
  },
  {
   "cell_type": "code",
   "execution_count": null,
   "metadata": {},
   "outputs": [],
   "source": []
  },
  {
   "cell_type": "code",
   "execution_count": null,
   "metadata": {},
   "outputs": [],
   "source": [
    "def get_reqid_and_symbol(yesterday):\n",
    "    query = \"\"\"\n",
    "        SELECT reqid, symbol\n",
    "        FROM reqid_list\n",
    "        WHERE DATE(send_time) = %s;\n",
    "    \"\"\"\n",
    "    cur.execute(query, (date_dropdown.value,))\n",
    "    reqid_and_symbol = cur.fetchall()\n",
    "    return reqid_and_symbol\n",
    "\n",
    "reqid_and_symbol_yesterday = get_reqid_and_symbol(yesterday)\n",
    "print(reqid_and_symbol_yesterday)"
   ]
  },
  {
   "cell_type": "code",
   "execution_count": null,
   "metadata": {},
   "outputs": [],
   "source": [
    "data_price = get_data_from_tick_price(symbol_dropdown.value, date_dropdown.value)\n",
    "# Define the column names based on the structure of stock_data\n",
    "price_columns = ['source_r', 'reqid_r', 'send_time', 'req_func', 'symbol', 'security_type', 'id_r', \n",
    "           'source_t', 'reqid_t', 'recv_time', 'field', 'name', 'price', 'attributes', 'id_t']\n",
    "\n",
    "# Convert stock_data to a pandas DataFrame\n",
    "data_price_df = pd.DataFrame(data_price, columns=price_columns)\n",
    "\n",
    "#data_price_df = data_price_df.sort_values(by='recv_time')\n",
    "\n",
    "# Display the DataFrame\n",
    "print(data_price_df.head())"
   ]
  },
  {
   "cell_type": "code",
   "execution_count": null,
   "metadata": {
    "vscode": {
     "languageId": "ruby"
    }
   },
   "outputs": [],
   "source": [
    "data_tbt = get_data_tbt_all_last(symbol_dropdown.value, date_dropdown.value)\n",
    "\n",
    "tbt_columns = ['source_r', 'reqid_r', 'send_time_r', 'req_func_r', 'symbol_r', 'security_type_r', 'id_r',\n",
    "            'source_t', 'reqid_t', 'recv_time_t', 'tick_type_t', 'tick_name_t', 'ib_time_t', 'price_t',\n",
    "            'size_t', 'exchange_t', 'id_t']            \n",
    "\n",
    "# Convert stock_data to a pandas DataFrame\n",
    "data_tbt_df = pd.DataFrame(data_tbt, columns=tbt_columns)\n",
    "\n",
    "#data_tbt_df = data_tbt_df.sort_values(by='recv_time')\n",
    "\n",
    "# Display the DataFrame\n",
    "print(data_tbt_df.head())\n"
   ]
  },
  {
   "cell_type": "code",
   "execution_count": null,
   "metadata": {},
   "outputs": [],
   "source": [
    "print(data_df.dtypes)"
   ]
  },
  {
   "cell_type": "code",
   "execution_count": null,
   "metadata": {},
   "outputs": [],
   "source": [
    "data_df['recv_time'] = data_df['recv_time'].dt.time"
   ]
  },
  {
   "cell_type": "code",
   "execution_count": null,
   "metadata": {},
   "outputs": [],
   "source": [
    "print(data_df.dtypes)"
   ]
  },
  {
   "cell_type": "code",
   "execution_count": null,
   "metadata": {},
   "outputs": [],
   "source": [
    "data_df['price'] = data_df['price'].astype(float)\n",
    "#print(data_df.dtypes)"
   ]
  },
  {
   "cell_type": "code",
   "execution_count": null,
   "metadata": {},
   "outputs": [],
   "source": [
    "print(data_df.dtypes)"
   ]
  },
  {
   "cell_type": "code",
   "execution_count": null,
   "metadata": {},
   "outputs": [],
   "source": [
    "print(data_df.head())"
   ]
  },
  {
   "cell_type": "code",
   "execution_count": null,
   "metadata": {},
   "outputs": [],
   "source": [
    "last_price_data = data_df[data_df['name'] == 'LAST']\n",
    "bid_price_data = data_df[data_df['name'] == 'BID']\n",
    "ask_price_data = data_df[data_df['name'] == 'ASK']\n",
    "\n",
    "# print(last_price_data.head())\n",
    "# print(bid_price_data.head())\n",
    "# print(ask_price_data.head())\n"
   ]
  },
  {
   "cell_type": "code",
   "execution_count": null,
   "metadata": {},
   "outputs": [],
   "source": [
    "print(last_price_data.dtypes)"
   ]
  },
  {
   "cell_type": "code",
   "execution_count": null,
   "metadata": {},
   "outputs": [],
   "source": [
    "last_price_data.to_csv('ibtrader_last_price_data.csv', index=False)"
   ]
  },
  {
   "cell_type": "code",
   "execution_count": null,
   "metadata": {},
   "outputs": [],
   "source": [
    "# Convert recv_time to datetime if not already\n",
    "#last_price_data['recv_time'] = pd.to_datetime(last_price_data['recv_time'])\n",
    "\n",
    "print(last_price_data['recv_time'].iloc[0])\n",
    "\n",
    "type(last_price_data['recv_time'].iloc[0])\n",
    "\n",
    "#last_price_data['recv_time'].diff()\n"
   ]
  },
  {
   "cell_type": "code",
   "execution_count": null,
   "metadata": {},
   "outputs": [],
   "source": [
    "# Calculate the time difference between consecutive rows\n",
    "last_price_data['time_diff'] = last_price_data['recv_time'].diff().dt.total_seconds()\n",
    "\n",
    "last_price_data['time_diff'] = last_price_data['recv_time'].diff()\n",
    "\n",
    "# Identify the indices where the time difference is greater than 1 second\n",
    "gap_indices = last_price_data.index[last_price_data['time_diff'] > 1].tolist()\n"
   ]
  },
  {
   "cell_type": "code",
   "execution_count": null,
   "metadata": {},
   "outputs": [],
   "source": [
    "test = last_price_data['recv_time']"
   ]
  },
  {
   "cell_type": "code",
   "execution_count": null,
   "metadata": {},
   "outputs": [],
   "source": [
    "delta_t = test.diff()\n",
    "\n"
   ]
  },
  {
   "cell_type": "code",
   "execution_count": null,
   "metadata": {},
   "outputs": [],
   "source": [
    "print(test.head(20))"
   ]
  },
  {
   "cell_type": "code",
   "execution_count": null,
   "metadata": {},
   "outputs": [],
   "source": [
    "# Split the data into chunks based on the gap indices\n",
    "chunks = []\n",
    "prev_index = 0\n",
    "for index in gap_indices:\n",
    "    chunks.append(last_price_data.iloc[prev_index:index])\n",
    "    prev_index = index\n",
    "chunks.append(last_price_data.iloc[prev_index:])  # Add the last chunk\n",
    "\n",
    "# Remove the time_diff column\n",
    "last_price_data.drop(columns=['time_diff'], inplace=True)\n",
    "\n",
    "# Display the number of chunks and the first few rows of each chunk\n",
    "print(f\"Number of chunks: {len(chunks)}\")\n",
    "for i, chunk in enumerate(chunks):\n",
    "    print(f\"\\nChunk {i+1}:\")\n",
    "    print(chunk.head())"
   ]
  },
  {
   "cell_type": "code",
   "execution_count": null,
   "metadata": {},
   "outputs": [],
   "source": [
    "# df1 = data_df.iloc[::2].reset_index(drop=True)  # Rows with even indices\n",
    "# df2 = data_df.iloc[1::2].reset_index(drop=True)  # Rows with odd indices\n",
    "\n",
    "# print(\"DataFrame 1:\")\n",
    "# print(df1.head())\n",
    "# print(\"\\nDataFrame 2:\")\n",
    "# print(df2.head())"
   ]
  },
  {
   "cell_type": "code",
   "execution_count": null,
   "metadata": {},
   "outputs": [],
   "source": [
    "# df1.to_csv('df1.csv', index=False)\n",
    "# df2.to_csv('df2.csv', index=False)"
   ]
  },
  {
   "cell_type": "code",
   "execution_count": null,
   "metadata": {},
   "outputs": [],
   "source": [
    "plt.figure(figsize=(10, 6))\n",
    "plt.plot(df1['recv_time'], df1['price'], label='Price')\n",
    "plt.xlabel('Receive Time')\n",
    "plt.ylabel('Price')\n",
    "plt.title('Price over Time')\n",
    "plt.legend()\n",
    "plt.grid(True)\n",
    "\n",
    "plt.get_current_fig_manager().toolbar.pan()\n",
    "plt.get_current_fig_manager().toolbar.zoom()\n",
    "\n",
    "plt.show()"
   ]
  },
  {
   "cell_type": "code",
   "execution_count": null,
   "metadata": {},
   "outputs": [],
   "source": [
    "fig, ax = plt.subplots()\n",
    "\n",
    "ax.plot(last_price_data['recv_time'], last_price_data['price'], marker='o', markersize=4, markerfacecolor='purple', label='Price')\n",
    "#ax.scatter(last_price_data['recv_time'], last_price_data['price'], marker='.', label='Price')\n",
    "plt.show()"
   ]
  }
 ],
 "metadata": {
  "kernelspec": {
   "display_name": ".venv",
   "language": "python",
   "name": "python3"
  },
  "language_info": {
   "codemirror_mode": {
    "name": "ipython",
    "version": 3
   },
   "file_extension": ".py",
   "mimetype": "text/x-python",
   "name": "python",
   "nbconvert_exporter": "python",
   "pygments_lexer": "ipython3",
   "version": "3.11.4"
  }
 },
 "nbformat": 4,
 "nbformat_minor": 2
}
