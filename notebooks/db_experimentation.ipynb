{
 "cells": [
  {
   "cell_type": "code",
   "execution_count": 2,
   "id": "ace18110",
   "metadata": {},
   "outputs": [],
   "source": [
    "import psycopg\n",
    "\n",
    "db_config = {'user':'jeffrey',\n",
    "                  'password':'strawberries',\n",
    "                  'host':'127.0.0.1',\n",
    "                  'port':'5432',\n",
    "                  'dbname':'trader',\n",
    "                  'autocommit':True} #this resolve the problem \"InternalError: CREATE DATABASE cannot run inside a transaction block\"\n",
    "\n",
    "db_conn = psycopg.connect(**db_config)\n",
    "db_cur = db_conn.cursor()\n"
   ]
  },
  {
   "cell_type": "code",
   "execution_count": 3,
   "id": "03be5a91",
   "metadata": {},
   "outputs": [
    {
     "name": "stdout",
     "output_type": "stream",
     "text": [
      "Table tick_generic exists.\n"
     ]
    }
   ],
   "source": [
    "db_cur.execute(\"SELECT EXISTS (SELECT FROM information_schema.tables WHERE table_name = 'tick_generic')\")\n",
    "if db_cur.fetchone()[0]:\n",
    "    print(\"Table tick_generic exists.\")\n",
    "else:\n",
    "    print(\"Table tick_generic does not exist.\")"
   ]
  },
  {
   "cell_type": "code",
   "execution_count": 7,
   "id": "3313a3d0",
   "metadata": {},
   "outputs": [],
   "source": [
    "db_cur.execute(\"SELECT EXISTS (SELECT FROM information_schema.tables WHERE table_name = 'tick_generic')\")\n",
    "test = db_cur.fetchall()"
   ]
  },
  {
   "cell_type": "code",
   "execution_count": 9,
   "id": "82d30359",
   "metadata": {},
   "outputs": [],
   "source": [
    "db_cur.execute(\"SELECT * FROM timescaledb_information.hypertables;\")\n",
    "test = db_cur.fetchall()\n"
   ]
  },
  {
   "cell_type": "code",
   "execution_count": 19,
   "id": "26fb6484",
   "metadata": {},
   "outputs": [
    {
     "name": "stdout",
     "output_type": "stream",
     "text": [
      "['tbt_all_last', 'tick_generic', 'tick_price', 'tick_size', 'tick_string', 'reqid_list']\n",
      "Table tick_generics is not in the list.\n"
     ]
    }
   ],
   "source": [
    "tables_list = []\n",
    "for row in test:\n",
    "    tables_list.append(row[1])\n",
    "print(tables_list)\n",
    "\n",
    "table_name_to_match = 'tick_generics'\n",
    "if table_name_to_match in tables_list:\n",
    "    print(f\"Table {table_name_to_match} is in the list.\")\n",
    "else:\n",
    "    print(f\"Table {table_name_to_match} is not in the list.\")"
   ]
  }
 ],
 "metadata": {
  "kernelspec": {
   "display_name": ".venv",
   "language": "python",
   "name": "python3"
  },
  "language_info": {
   "codemirror_mode": {
    "name": "ipython",
    "version": 3
   },
   "file_extension": ".py",
   "mimetype": "text/x-python",
   "name": "python",
   "nbconvert_exporter": "python",
   "pygments_lexer": "ipython3",
   "version": "3.11.4"
  }
 },
 "nbformat": 4,
 "nbformat_minor": 5
}
